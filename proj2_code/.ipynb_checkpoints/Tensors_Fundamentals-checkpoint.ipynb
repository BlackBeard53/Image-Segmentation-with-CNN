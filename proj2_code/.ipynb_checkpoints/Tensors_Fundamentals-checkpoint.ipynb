{
 "cells": [
  {
   "cell_type": "markdown",
   "id": "a260a4a6",
   "metadata": {},
   "source": [
    "# Fundamentals on Tensors - Pytorch\n",
    "\n",
    "** Bipin Koirala ----- Baddest Motherfucker in the world**    09/26/2021\n",
    "\n",
    "_______________________________________________________________________________________________________________________________"
   ]
  },
  {
   "cell_type": "markdown",
   "id": "cc31326b",
   "metadata": {},
   "source": [
    "Numpy and Tensors make things easier because we can manipulate array/matrix easily. For example, below is a traditional line of code that squares and cubes each element in an array then adds them together."
   ]
  },
  {
   "cell_type": "code",
   "execution_count": 1,
   "id": "88ff3d67",
   "metadata": {},
   "outputs": [],
   "source": [
    "import numpy as np\n",
    "import torch\n",
    "import matplotlib.pyplot as plt"
   ]
  },
  {
   "cell_type": "code",
   "execution_count": 2,
   "id": "ccea2103",
   "metadata": {},
   "outputs": [
    {
     "name": "stdout",
     "output_type": "stream",
     "text": [
      "[1, 2, 3]\n",
      "[2, 12, 36]\n",
      "range(0, 3)\n"
     ]
    }
   ],
   "source": [
    "list_two = list(range(1,4))\n",
    "print(list_two)\n",
    "list_three = list(range(1,4))\n",
    "list_sum = []\n",
    "for index in range(3):\n",
    "    list_two[index] = list_two[index]**2\n",
    "    list_three[index] = list_three[index]**3\n",
    "    list_sum.append(list_two[index]+list_three[index])\n",
    "print(list_sum)\n",
    "print(range(3))"
   ]
  },
  {
   "cell_type": "markdown",
   "id": "12518f1a",
   "metadata": {},
   "source": [
    "To use pytorch first you need to import it. DUMBASS"
   ]
  },
  {
   "cell_type": "code",
   "execution_count": 3,
   "id": "9b42922a",
   "metadata": {},
   "outputs": [
    {
     "name": "stdout",
     "output_type": "stream",
     "text": [
      "tensor([2, 3])\n"
     ]
    },
    {
     "data": {
      "text/plain": [
       "'arange(x,y) = start at x and end at y-1 \\n arange(x) = start at 0 and end at x-1'"
      ]
     },
     "execution_count": 3,
     "metadata": {},
     "output_type": "execute_result"
    }
   ],
   "source": [
    "print(torch.arange(2,4))\n",
    "r'''arange(x,y) = start at x and end at y-1 \n",
    " arange(x) = start at 0 and end at x-1'''"
   ]
  },
  {
   "cell_type": "markdown",
   "id": "dfbfaa34",
   "metadata": {},
   "source": [
    "* Now using pytorch we can do the same operation as above just using two lines. <b>See below</b> "
   ]
  },
  {
   "cell_type": "code",
   "execution_count": 4,
   "id": "fe099427",
   "metadata": {},
   "outputs": [
    {
     "name": "stdout",
     "output_type": "stream",
     "text": [
      "In just 2 lines: tensor([ 2, 12, 36])\n"
     ]
    }
   ],
   "source": [
    "x = torch.arange(1,4)\n",
    "x = x**2+x**3\n",
    "print('In just 2 lines:',x)"
   ]
  },
  {
   "cell_type": "code",
   "execution_count": 5,
   "id": "3fb6bdb5",
   "metadata": {},
   "outputs": [
    {
     "name": "stdout",
     "output_type": "stream",
     "text": [
      "Torch Negative: tensor([-2, -3])\n",
      "Numpy Negative: [-1 -4 -9]\n",
      "From numpy to Tensor: tensor([1, 4, 9], dtype=torch.int32)\n"
     ]
    }
   ],
   "source": [
    "x = torch.negative(torch.arange(2,4))\n",
    "print('Torch Negative:',x)\n",
    "x = np.array(list_two)\n",
    "print('Numpy Negative:',np.negative(x))\n",
    "y = torch.from_numpy(x) # converting numpy array to tensor\n",
    "print('From numpy to Tensor:',y)"
   ]
  },
  {
   "cell_type": "code",
   "execution_count": 6,
   "id": "c70071eb",
   "metadata": {},
   "outputs": [
    {
     "name": "stdout",
     "output_type": "stream",
     "text": [
      "Sine of elemental array: tensor([0.8415, 0.9093, 0.1411])\n"
     ]
    }
   ],
   "source": [
    "x = torch.arange(1,4)\n",
    "y = torch.sin(x) # Takes sine of every element in the tensor. Use torch.exp(), torch.log() similarly. Angles use radian\n",
    "print('Sine of elemental array:',y)"
   ]
  },
  {
   "cell_type": "markdown",
   "id": "fd832aa7",
   "metadata": {},
   "source": [
    "# Multi Dimensional Array"
   ]
  },
  {
   "cell_type": "markdown",
   "id": "c1b7d11e",
   "metadata": {},
   "source": [
    "<b>* In Numpy</b>"
   ]
  },
  {
   "cell_type": "code",
   "execution_count": 7,
   "id": "e63246b8",
   "metadata": {},
   "outputs": [
    {
     "name": "stdout",
     "output_type": "stream",
     "text": [
      "Combined Array: [[1 2 3]\n",
      " [2 3 4]\n",
      " [5 6 7]]\n",
      "Shape: (3, 3)\n",
      "int32\n"
     ]
    }
   ],
   "source": [
    "x = np.arange(1,4)\n",
    "y = np.arange(2,5)\n",
    "z = np.arange(5,8)\n",
    "combined_array = np.array([x,y,z])\n",
    "print('Combined Array:',combined_array)\n",
    "print('Shape:',combined_array.shape)\n",
    "print(combined_array.dtype)"
   ]
  },
  {
   "cell_type": "markdown",
   "id": "90d517f0",
   "metadata": {},
   "source": [
    "<b> * In pytorch</b>"
   ]
  },
  {
   "attachments": {
    "image.png": {
     "image/png": "[encoded data removed]"
    }
   },
   "cell_type": "markdown",
   "id": "9fa2627d",
   "metadata": {},
   "source": [
    "Concate is along existing direction and stack is along new direction\n",
    "![image.png](attachment:image.png)"
   ]
  },
  {
   "cell_type": "code",
   "execution_count": 8,
   "id": "255320d1",
   "metadata": {},
   "outputs": [
    {
     "name": "stdout",
     "output_type": "stream",
     "text": [
      "Combined Tensor: tensor([1, 2, 3, 2, 3, 4, 5, 6, 7])\n",
      "Shape: torch.Size([9])\n",
      "Combined Tensor: tensor([[1, 2, 3],\n",
      "        [2, 3, 4],\n",
      "        [5, 6, 7]])\n",
      "Shape: torch.Size([3, 3])\n"
     ]
    }
   ],
   "source": [
    "x = torch.arange(1,4)\n",
    "y = torch.arange(2,5)\n",
    "z = torch.arange(5,8)\n",
    "combined_array = torch.cat([x,y,z],dim = 0)\n",
    "\n",
    "r'''when Concate is used'''\n",
    "print('Combined Tensor:',combined_array)\n",
    "print('Shape:', combined_array.shape)\n",
    "\n",
    "r'''when stack is used'''\n",
    "combined_array = torch.stack([x,y,z], dim = 0) #just stacks them together if dim = 1 transpose is obtained\n",
    "print('Combined Tensor:',combined_array)\n",
    "print('Shape:',combined_array.shape)\n",
    "#print(torch.transpose(combined_array,0,1))"
   ]
  },
  {
   "cell_type": "markdown",
   "id": "76f88eca",
   "metadata": {},
   "source": [
    "<b> Linspace(a,b)</b> is similar to [a,b] whereas <b>arange(a,b) = [a,b) </b>"
   ]
  },
  {
   "cell_type": "code",
   "execution_count": 9,
   "id": "b181ae74",
   "metadata": {},
   "outputs": [
    {
     "name": "stdout",
     "output_type": "stream",
     "text": [
      "Linspace: [ 1.  2.  3.  4.  5.  6.  7.  8.  9. 10.]\n",
      "Arange: [1 2 3 4 5 6 7 8 9]\n"
     ]
    }
   ],
   "source": [
    "print('Linspace:',np.linspace(1,10,10)) # (start,end,how many samples)\n",
    "print('Arange:',np.arange(1,10))"
   ]
  },
  {
   "cell_type": "markdown",
   "id": "b056f035",
   "metadata": {},
   "source": [
    "Accessing a single element in a matrix"
   ]
  },
  {
   "cell_type": "code",
   "execution_count": 10,
   "id": "cd43481c",
   "metadata": {},
   "outputs": [
    {
     "name": "stdout",
     "output_type": "stream",
     "text": [
      "The Matrix: tensor([[0.7226, 0.4175, 0.8004],\n",
      "        [0.4598, 0.4801, 0.8797]])\n",
      "\n",
      "Element (1,2): tensor(0.8004)\n"
     ]
    },
    {
     "data": {
      "text/plain": [
       "' Second Row Third Column. Sala 1,2,3 ko satta 0,1,2 hudo raixa'"
      ]
     },
     "execution_count": 10,
     "metadata": {},
     "output_type": "execute_result"
    }
   ],
   "source": [
    "x = torch.rand(2,3)\n",
    "print('The Matrix:',x)\n",
    "print('\\nElement (1,2):',x[0,2])\n",
    "\n",
    "r''' Second Row Third Column. Sala 1,2,3 ko satta 0,1,2 hudo raixa'''"
   ]
  },
  {
   "cell_type": "code",
   "execution_count": 11,
   "id": "d46a001d",
   "metadata": {},
   "outputs": [
    {
     "name": "stdout",
     "output_type": "stream",
     "text": [
      "torch.float32\n"
     ]
    }
   ],
   "source": [
    "print(x.dtype)"
   ]
  },
  {
   "cell_type": "markdown",
   "id": "6fef1511",
   "metadata": {},
   "source": [
    "# One Dimensional Slicing"
   ]
  },
  {
   "cell_type": "code",
   "execution_count": 12,
   "id": "719f7d02",
   "metadata": {},
   "outputs": [
    {
     "name": "stdout",
     "output_type": "stream",
     "text": [
      "tensor([1, 2, 3, 4, 5, 6, 7, 8, 9])\n",
      "tensor([3, 4, 5, 6, 7])\n",
      "tensor([3, 5, 7])\n"
     ]
    }
   ],
   "source": [
    "x = torch.arange(1,10,1)\n",
    "print(x)\n",
    "print(x[2:7])\n",
    "print(x[2:7:2]) #start at index 2 and end at index 7 (exclusive) with step size 2"
   ]
  },
  {
   "cell_type": "markdown",
   "id": "bcdce55e",
   "metadata": {},
   "source": [
    "# Reshaping Matrix"
   ]
  },
  {
   "cell_type": "markdown",
   "id": "13b3674c",
   "metadata": {},
   "source": [
    "xxx.reshape (n,-1) implies that 'n' row must be there and the column is taken care by the program accordingly"
   ]
  },
  {
   "cell_type": "code",
   "execution_count": 13,
   "id": "a76850d4",
   "metadata": {},
   "outputs": [
    {
     "name": "stdout",
     "output_type": "stream",
     "text": [
      "tensor([1, 2, 3, 4, 5, 6, 7, 8, 9])\n",
      "tensor([[1, 2, 3],\n",
      "        [4, 5, 6],\n",
      "        [7, 8, 9]])\n"
     ]
    }
   ],
   "source": [
    "x = torch.arange(1,10)\n",
    "print(x)\n",
    "y = x.reshape(3,-1)\n",
    "print(y)"
   ]
  },
  {
   "cell_type": "markdown",
   "id": "dfb279d0",
   "metadata": {},
   "source": [
    "xxx.reshape (a,b,c) implies row = a, col = b and c = each block of #c elements"
   ]
  },
  {
   "cell_type": "code",
   "execution_count": 14,
   "id": "7541503d",
   "metadata": {},
   "outputs": [
    {
     "name": "stdout",
     "output_type": "stream",
     "text": [
      "tensor([ 1,  2,  3,  4,  5,  6,  7,  8,  9, 10, 11, 12, 13, 14, 15, 16, 17, 18])\n",
      "tensor([[[ 1,  2,  3],\n",
      "         [ 4,  5,  6],\n",
      "         [ 7,  8,  9]],\n",
      "\n",
      "        [[10, 11, 12],\n",
      "         [13, 14, 15],\n",
      "         [16, 17, 18]]])\n"
     ]
    }
   ],
   "source": [
    "x = torch.arange(1,19)\n",
    "print(x)\n",
    "x = x.reshape(2,-1,3) # you can also put (2,3,-1) or (2,3,3) -1 is inferred\n",
    "print(x)"
   ]
  },
  {
   "cell_type": "markdown",
   "id": "b3b5f3d6",
   "metadata": {},
   "source": [
    "# Multi-dimensional Slicing"
   ]
  },
  {
   "cell_type": "code",
   "execution_count": 15,
   "id": "5d7dd641",
   "metadata": {},
   "outputs": [
    {
     "name": "stdout",
     "output_type": "stream",
     "text": [
      "tensor([[[ 1,  2,  3],\n",
      "         [ 4,  5,  6],\n",
      "         [ 7,  8,  9]],\n",
      "\n",
      "        [[10, 11, 12],\n",
      "         [13, 14, 15],\n",
      "         [16, 17, 18]]])\n"
     ]
    }
   ],
   "source": [
    "x = x.reshape(2,3,3)\n",
    "print(x)"
   ]
  },
  {
   "cell_type": "code",
   "execution_count": 16,
   "id": "512fb8f0",
   "metadata": {},
   "outputs": [
    {
     "name": "stdout",
     "output_type": "stream",
     "text": [
      "tensor(9)\n"
     ]
    }
   ],
   "source": [
    "print(x[0,2,2])"
   ]
  },
  {
   "cell_type": "code",
   "execution_count": 17,
   "id": "3cf60380",
   "metadata": {},
   "outputs": [
    {
     "name": "stdout",
     "output_type": "stream",
     "text": [
      "tensor([[[1, 2, 3],\n",
      "         [4, 5, 6],\n",
      "         [7, 8, 9]]])\n",
      "torch.Size([1, 3, 3])\n"
     ]
    }
   ],
   "source": [
    "print(x[0:1])\n",
    "print(x[0:1].shape)"
   ]
  },
  {
   "attachments": {
    "image.png": {
     "image/png": "[encoded data removed]"
    }
   },
   "cell_type": "markdown",
   "id": "a1b688bf",
   "metadata": {},
   "source": [
    "![image.png](attachment:image.png)\n",
    "If we want to get 13 14 15 block. We specify row index 1 - column index 1 - : inferred"
   ]
  },
  {
   "cell_type": "code",
   "execution_count": 18,
   "id": "ef9612e0",
   "metadata": {},
   "outputs": [
    {
     "name": "stdout",
     "output_type": "stream",
     "text": [
      "tensor([13, 14, 15])\n",
      "tensor([13, 14, 15])\n",
      "tensor([14, 15])\n"
     ]
    }
   ],
   "source": [
    "print(x[1,1,:])\n",
    "print(x[1,1,0:3])\n",
    "print(x[1,1,1:3])"
   ]
  },
  {
   "cell_type": "code",
   "execution_count": 19,
   "id": "673a9378",
   "metadata": {},
   "outputs": [
    {
     "name": "stdout",
     "output_type": "stream",
     "text": [
      "tensor([[10, 11, 12],\n",
      "        [13, 14, 15],\n",
      "        [16, 17, 18]])\n"
     ]
    }
   ],
   "source": [
    "print(x[1,:3,:3]) #stacks second row as a new matrix"
   ]
  },
  {
   "cell_type": "code",
   "execution_count": 20,
   "id": "95fe768b",
   "metadata": {},
   "outputs": [
    {
     "name": "stdout",
     "output_type": "stream",
     "text": [
      "tensor([[10, 12],\n",
      "        [13, 15],\n",
      "        [16, 18]])\n"
     ]
    }
   ],
   "source": [
    "x1 = x[1,:3,:3 :2]\n",
    "print(x1) #elemental block of step 2"
   ]
  },
  {
   "cell_type": "markdown",
   "id": "122d6b94",
   "metadata": {},
   "source": [
    "# Conditional operation within the matrix"
   ]
  },
  {
   "cell_type": "code",
   "execution_count": 21,
   "id": "831ed961",
   "metadata": {},
   "outputs": [
    {
     "name": "stdout",
     "output_type": "stream",
     "text": [
      "tensor([[False, False],\n",
      "        [ True,  True],\n",
      "        [ True,  True]])\n"
     ]
    }
   ],
   "source": [
    "comparison_operator = (x1 >= 13)\n",
    "print(comparison_operator)"
   ]
  },
  {
   "cell_type": "code",
   "execution_count": 22,
   "id": "ad94130e",
   "metadata": {},
   "outputs": [
    {
     "name": "stdout",
     "output_type": "stream",
     "text": [
      "tensor([13, 15, 16, 18])\n"
     ]
    }
   ],
   "source": [
    "print(x1[comparison_operator])"
   ]
  },
  {
   "cell_type": "code",
   "execution_count": 23,
   "id": "fdcb0c86",
   "metadata": {},
   "outputs": [
    {
     "name": "stdout",
     "output_type": "stream",
     "text": [
      "tensor(18)\n"
     ]
    }
   ],
   "source": [
    "print(x1.max())"
   ]
  },
  {
   "cell_type": "markdown",
   "id": "f46d9ed2",
   "metadata": {},
   "source": [
    "# Manipulating Array Shapes"
   ]
  },
  {
   "cell_type": "code",
   "execution_count": 24,
   "id": "9cf60bc1",
   "metadata": {},
   "outputs": [
    {
     "name": "stdout",
     "output_type": "stream",
     "text": [
      "tensor([[1, 2, 3],\n",
      "        [4, 5, 6],\n",
      "        [7, 8, 9]])\n"
     ]
    }
   ],
   "source": [
    "x = torch.arange(1,10).reshape(3,3)\n",
    "print(x)"
   ]
  },
  {
   "cell_type": "markdown",
   "id": "70eb0158",
   "metadata": {},
   "source": [
    "To flatten the above tensor, we can use something called ravel(). Similar thing with numpy"
   ]
  },
  {
   "cell_type": "code",
   "execution_count": 25,
   "id": "05ea6c1c",
   "metadata": {},
   "outputs": [
    {
     "name": "stdout",
     "output_type": "stream",
     "text": [
      "Ravel: tensor([1, 2, 3, 4, 5, 6, 7, 8, 9])\n",
      "Flatten: tensor([1, 2, 3, 4, 5, 6, 7, 8, 9])\n"
     ]
    }
   ],
   "source": [
    "y = x.ravel()\n",
    "w = x.flatten()\n",
    "print('Ravel:',y)\n",
    "print('Flatten:',w)"
   ]
  },
  {
   "cell_type": "markdown",
   "id": "0f66d71a",
   "metadata": {},
   "source": [
    "Ravel is same as flatten but if you edit some element, the change is reflected in the main variable. Whereas flatten does not make changes to the original values. Flatten = copy & Ravel = edit change. For example:"
   ]
  },
  {
   "cell_type": "code",
   "execution_count": 26,
   "id": "11a3dd21",
   "metadata": {},
   "outputs": [],
   "source": [
    "#Ravelled_array = x.ravel()\n",
    "#Ravelled_array[5] = 500\n",
    "#print(x)"
   ]
  },
  {
   "cell_type": "code",
   "execution_count": 27,
   "id": "a99c59a9",
   "metadata": {},
   "outputs": [
    {
     "name": "stdout",
     "output_type": "stream",
     "text": [
      "tensor([   1,    2,    3,    4,    5, 2500,    7,    8,    9])\n",
      "tensor([[   1,    2,    3],\n",
      "        [   4,    5, 2500],\n",
      "        [   7,    8,    9]])\n"
     ]
    }
   ],
   "source": [
    "Flattened_array = x.flatten()\n",
    "Flattened_array[5] = 2500\n",
    "print(Flattened_array)\n",
    "print(x)"
   ]
  },
  {
   "cell_type": "markdown",
   "id": "f2aac06b",
   "metadata": {},
   "source": [
    "Resizing is a feature that lets you to resize your tensor and if the resized arry is larger than original array; the array is repeated to maintain the size. This is shown in Numpy"
   ]
  },
  {
   "cell_type": "code",
   "execution_count": 28,
   "id": "10eeaff4",
   "metadata": {},
   "outputs": [
    {
     "name": "stdout",
     "output_type": "stream",
     "text": [
      "[[0 1 2]\n",
      " [3 4 5]\n",
      " [6 7 8]]\n",
      "[[0 1 2 3]\n",
      " [4 5 6 7]\n",
      " [8 0 1 2]\n",
      " [3 4 5 6]]\n"
     ]
    }
   ],
   "source": [
    "x = np.arange(9).reshape(3,3)\n",
    "print(x)\n",
    "y = np.resize(x,(4,4))\n",
    "print(y)"
   ]
  },
  {
   "cell_type": "code",
   "execution_count": 29,
   "id": "270190a7",
   "metadata": {},
   "outputs": [
    {
     "name": "stdout",
     "output_type": "stream",
     "text": [
      "tensor([[1, 0, 0],\n",
      "        [0, 1, 0],\n",
      "        [0, 0, 1]])\n",
      "torch.int64\n"
     ]
    }
   ],
   "source": [
    "matrix = torch.eye((3),dtype = int)\n",
    "print(matrix)\n",
    "print(matrix.dtype)"
   ]
  },
  {
   "cell_type": "code",
   "execution_count": 30,
   "id": "d8bcf7d5",
   "metadata": {},
   "outputs": [
    {
     "name": "stdout",
     "output_type": "stream",
     "text": [
      "tensor([[12.3757,  9.2196,  3.2001],\n",
      "        [ 5.6758, 17.9359, 11.6054],\n",
      "        [22.5198, 26.5819, 13.0749]])\n"
     ]
    }
   ],
   "source": [
    "A = torch.rand(3,2)*10\n",
    "B = torch.rand(2,3)*10\n",
    "print(torch.matmul(A,B))"
   ]
  },
  {
   "cell_type": "code",
   "execution_count": 31,
   "id": "98b5e0d2",
   "metadata": {},
   "outputs": [
    {
     "name": "stdout",
     "output_type": "stream",
     "text": [
      "[[0.48633688 0.53548197 0.12486351]\n",
      " [0.03528698 0.17352749 0.08103582]\n",
      " [0.25314794 0.4550956  0.1592521 ]]\n"
     ]
    }
   ],
   "source": [
    "a = np.random.rand(3,2)\n",
    "A = np.matrix(a)\n",
    "b = np.random.rand(2,3)\n",
    "B = np.matrix(b)\n",
    "print(A*B)"
   ]
  },
  {
   "cell_type": "markdown",
   "id": "0fe88bd3",
   "metadata": {},
   "source": [
    "# Stacking"
   ]
  },
  {
   "cell_type": "code",
   "execution_count": 32,
   "id": "ee42b7af",
   "metadata": {},
   "outputs": [
    {
     "name": "stdout",
     "output_type": "stream",
     "text": [
      "tensor([[0, 1],\n",
      "        [2, 3]])\n",
      "tensor([[4, 5],\n",
      "        [6, 7]])\n"
     ]
    }
   ],
   "source": [
    "x = torch.arange(4).reshape(2,2)\n",
    "y = torch.arange(4,8).reshape(2,2)\n",
    "print(x)\n",
    "print(y)"
   ]
  },
  {
   "cell_type": "markdown",
   "id": "141e7a5d",
   "metadata": {},
   "source": [
    "Vertical stacking"
   ]
  },
  {
   "cell_type": "code",
   "execution_count": 33,
   "id": "117dbda4",
   "metadata": {},
   "outputs": [
    {
     "name": "stdout",
     "output_type": "stream",
     "text": [
      "tensor([[[0, 1],\n",
      "         [4, 5]],\n",
      "\n",
      "        [[2, 3],\n",
      "         [6, 7]]])\n"
     ]
    }
   ],
   "source": [
    "matrix = (torch.stack((x,y), axis = 1)) # can change to dim = 1\n",
    "print(matrix)"
   ]
  },
  {
   "cell_type": "markdown",
   "id": "a3b9dbab",
   "metadata": {},
   "source": [
    "Horizontal Stacking"
   ]
  },
  {
   "cell_type": "code",
   "execution_count": 34,
   "id": "7f446dd3",
   "metadata": {},
   "outputs": [
    {
     "name": "stdout",
     "output_type": "stream",
     "text": [
      "tensor([[1, 2],\n",
      "        [3, 4]])\n",
      "tensor([[5, 6],\n",
      "        [7, 8]])\n",
      "tensor([[1, 2, 5, 6],\n",
      "        [3, 4, 7, 8]])\n",
      "tensor([[False, False],\n",
      "        [False, False]])\n"
     ]
    }
   ],
   "source": [
    "a = torch.arange(1,5).reshape(2,2)\n",
    "b = torch.arange(5,9).reshape(2,2)\n",
    "print(a)\n",
    "print(b)\n",
    "x = (torch.hstack([a,b]))\n",
    "print(x)\n",
    "print(a==b)"
   ]
  },
  {
   "cell_type": "code",
   "execution_count": 35,
   "id": "55aba078",
   "metadata": {},
   "outputs": [
    {
     "name": "stdout",
     "output_type": "stream",
     "text": [
      "torch.Size([2, 4]) torch.Size([2, 2, 2])\n"
     ]
    }
   ],
   "source": [
    "c = torch.cat((a,b),dim = 1)\n",
    "d = torch.stack((a,b),dim = 1)\n",
    "print(c.shape,d.shape)\n"
   ]
  },
  {
   "cell_type": "markdown",
   "id": "9352e6ef",
   "metadata": {},
   "source": [
    "<b> Depth Stacking - - Along third axis</b>"
   ]
  },
  {
   "cell_type": "code",
   "execution_count": 36,
   "id": "a2ea9303",
   "metadata": {},
   "outputs": [
    {
     "name": "stdout",
     "output_type": "stream",
     "text": [
      "tensor([[[1, 2],\n",
      "         [3, 4]],\n",
      "\n",
      "        [[5, 6],\n",
      "         [7, 8]]])\n",
      "tensor([[[1, 5],\n",
      "         [2, 6]],\n",
      "\n",
      "        [[3, 7],\n",
      "         [4, 8]]])\n",
      "torch.Size([2, 2, 2])\n"
     ]
    }
   ],
   "source": [
    "depth_stacking = torch.dstack((a,b))\n",
    "print(torch.stack((a,b), dim = 0))\n",
    "print(depth_stacking)\n",
    "print(depth_stacking.shape)"
   ]
  },
  {
   "cell_type": "markdown",
   "id": "65c035e8",
   "metadata": {},
   "source": [
    "Column stack is equivalent to horizontal stack. Only in 2D"
   ]
  },
  {
   "cell_type": "code",
   "execution_count": 37,
   "id": "389c913d",
   "metadata": {},
   "outputs": [
    {
     "name": "stdout",
     "output_type": "stream",
     "text": [
      "tensor([[1, 2, 5, 6],\n",
      "        [3, 4, 7, 8]])\n"
     ]
    }
   ],
   "source": [
    "print(torch.column_stack((a,b)))"
   ]
  },
  {
   "cell_type": "code",
   "execution_count": 38,
   "id": "4c6af74a",
   "metadata": {},
   "outputs": [
    {
     "name": "stdout",
     "output_type": "stream",
     "text": [
      "tensor([[1, 2, 5, 6],\n",
      "        [3, 4, 7, 8]])\n"
     ]
    }
   ],
   "source": [
    "print(torch.hstack((a,b)))"
   ]
  },
  {
   "cell_type": "markdown",
   "id": "aeaa18d3",
   "metadata": {},
   "source": [
    "Row stack is equivalment to vertical stack. Only in 2D"
   ]
  },
  {
   "cell_type": "code",
   "execution_count": 39,
   "id": "56b12bf4",
   "metadata": {},
   "outputs": [
    {
     "name": "stdout",
     "output_type": "stream",
     "text": [
      "tensor([[1, 2],\n",
      "        [3, 4],\n",
      "        [5, 6],\n",
      "        [7, 8]])\n"
     ]
    }
   ],
   "source": [
    "a1 =(torch.row_stack((a,b)))\n",
    "print(a1)"
   ]
  },
  {
   "cell_type": "code",
   "execution_count": 40,
   "id": "4cf99321",
   "metadata": {},
   "outputs": [
    {
     "name": "stdout",
     "output_type": "stream",
     "text": [
      "tensor([[1, 2],\n",
      "        [3, 4],\n",
      "        [5, 6],\n",
      "        [7, 8]])\n"
     ]
    }
   ],
   "source": [
    "b1=(torch.vstack((a,b)))\n",
    "print(b1)"
   ]
  },
  {
   "cell_type": "code",
   "execution_count": 41,
   "id": "dbdcf277",
   "metadata": {},
   "outputs": [
    {
     "name": "stdout",
     "output_type": "stream",
     "text": [
      "tensor([[True, True],\n",
      "        [True, True],\n",
      "        [True, True],\n",
      "        [True, True]])\n"
     ]
    }
   ],
   "source": [
    "print (a1 == b1)"
   ]
  },
  {
   "cell_type": "markdown",
   "id": "f55dde01",
   "metadata": {},
   "source": [
    "---------------Note: stack vs (v/h)stack is different ----------------"
   ]
  },
  {
   "cell_type": "markdown",
   "id": "d0a3204b",
   "metadata": {},
   "source": [
    "# From numpy array to tensor"
   ]
  },
  {
   "cell_type": "code",
   "execution_count": 42,
   "id": "e478c413",
   "metadata": {},
   "outputs": [
    {
     "name": "stdout",
     "output_type": "stream",
     "text": [
      "tensor([1, 2, 3, 4, 5], dtype=torch.int32)\n"
     ]
    }
   ],
   "source": [
    "a = np.array([1,2,3,4,5])\n",
    "b = torch.from_numpy(a)\n",
    "print(b)"
   ]
  },
  {
   "cell_type": "markdown",
   "id": "997bccbf",
   "metadata": {},
   "source": [
    "To convert back to numpy array"
   ]
  },
  {
   "cell_type": "code",
   "execution_count": 43,
   "id": "d3ed6260",
   "metadata": {},
   "outputs": [
    {
     "name": "stdout",
     "output_type": "stream",
     "text": [
      "[1 2 3 4 5]\n"
     ]
    }
   ],
   "source": [
    "x = b.numpy()\n",
    "print(x)"
   ]
  },
  {
   "cell_type": "markdown",
   "id": "ee9110c8",
   "metadata": {},
   "source": [
    "# Miscellaneous"
   ]
  },
  {
   "cell_type": "code",
   "execution_count": 44,
   "id": "064b60f7",
   "metadata": {},
   "outputs": [
    {
     "name": "stdout",
     "output_type": "stream",
     "text": [
      "tensor([ 1.,  4.,  7., 10.]) tensor([1, 5, 9])\n"
     ]
    }
   ],
   "source": [
    "x = torch.linspace(1,10,4) #linspace is inclusive\n",
    "y = torch.arange(1,10,4) #arange is not inclusive\n",
    "print(x,y)"
   ]
  },
  {
   "cell_type": "code",
   "execution_count": 45,
   "id": "9ec123af",
   "metadata": {},
   "outputs": [
    {
     "data": {
      "text/plain": [
       "[<matplotlib.lines.Line2D at 0x212e66d7d00>]"
      ]
     },
     "execution_count": 45,
     "metadata": {},
     "output_type": "execute_result"
    },
    {
     "data": {
      "image/png": "[encoded data removed]",
      "text/plain": [
       "<Figure size 432x288 with 1 Axes>"
      ]
     },
     "metadata": {
      "needs_background": "light"
     },
     "output_type": "display_data"
    }
   ],
   "source": [
    "x = torch.linspace(0,10,50)\n",
    "y = torch.tan(x)\n",
    "plt.plot(x,y)"
   ]
  },
  {
   "cell_type": "code",
   "execution_count": 46,
   "id": "2b6e2a9c",
   "metadata": {},
   "outputs": [
    {
     "data": {
      "image/png": "[encoded data removed]",
      "text/plain": [
       "<Figure size 432x288 with 1 Axes>"
      ]
     },
     "metadata": {
      "needs_background": "light"
     },
     "output_type": "display_data"
    }
   ],
   "source": [
    "a = x.numpy()\n",
    "b = y.numpy()\n",
    "plt.plot(a,b)\n",
    "plt.grid()"
   ]
  },
  {
   "cell_type": "code",
   "execution_count": 47,
   "id": "1e5cfcad",
   "metadata": {},
   "outputs": [
    {
     "name": "stdout",
     "output_type": "stream",
     "text": [
      "tensor([[[ 0,  1,  2],\n",
      "         [ 3,  4,  5]],\n",
      "\n",
      "        [[ 6,  7,  8],\n",
      "         [ 9, 10, 11]],\n",
      "\n",
      "        [[12, 13, 14],\n",
      "         [15, 16, 17]]])\n",
      "tensor(11)\n"
     ]
    }
   ],
   "source": [
    "x = torch.arange(18).reshape(3,2,3)\n",
    "print(x)\n",
    "print(x[1,1,2])"
   ]
  },
  {
   "cell_type": "code",
   "execution_count": 48,
   "id": "3cf1f8ea",
   "metadata": {},
   "outputs": [
    {
     "name": "stdout",
     "output_type": "stream",
     "text": [
      "tensor([[ 6,  7,  8],\n",
      "        [ 9, 10, 11]])\n"
     ]
    }
   ],
   "source": [
    "print(x[1,:2,:3])"
   ]
  },
  {
   "cell_type": "markdown",
   "id": "5390dd04",
   "metadata": {},
   "source": [
    "# Derivatives"
   ]
  },
  {
   "cell_type": "markdown",
   "id": "8ae08c5f",
   "metadata": {},
   "source": [
    "Suppose we have a function $f(y) = 9x^4 + 2x^3 + 3x^2 + 6x +1$ whose derivate is $\\frac{dy}{dx} = 36x^3 + 6x^2 + 6x + 6$. f ' (2) = 330"
   ]
  },
  {
   "cell_type": "code",
   "execution_count": 49,
   "id": "00afddaf",
   "metadata": {},
   "outputs": [
    {
     "data": {
      "text/plain": [
       "tensor(330.)"
      ]
     },
     "execution_count": 49,
     "metadata": {},
     "output_type": "execute_result"
    }
   ],
   "source": [
    "x = torch.tensor(2.0, requires_grad = True) #since we're computing gradient; it requires gradient boolean to be true\n",
    "y = 9*x**4 + 2*x**3 + 3*x**2 + 6*x + 1\n",
    "y.backward()\n",
    "x.grad"
   ]
  },
  {
   "cell_type": "markdown",
   "id": "e3e0b8a2",
   "metadata": {},
   "source": [
    "Partial Derivatives:\n",
    "Let; $y = x^2 + z^3$. $\\frac{\\partial (x^2+z^3)}{\\partial x} = 2x + 0$ and $\\frac{\\partial (x^2+z^3)}{\\partial y} = 3z^2$.\n",
    "\n",
    "Now the values of partial derivative at x = 1.0 and z = 2.0 are 2 and 12 respectively."
   ]
  },
  {
   "cell_type": "code",
   "execution_count": 50,
   "id": "0d655951",
   "metadata": {},
   "outputs": [
    {
     "name": "stdout",
     "output_type": "stream",
     "text": [
      "tensor(2.)\n",
      "tensor(12.)\n"
     ]
    }
   ],
   "source": [
    "x = torch.tensor(1.0,requires_grad = True)\n",
    "z = torch.tensor(2.0,requires_grad = True)\n",
    "y = x**2 + z**3\n",
    "y.backward() # this will calculate the gradient of y w.r.t both x and z\n",
    "print(x.grad)\n",
    "print(z.grad)"
   ]
  }
 ],
 "metadata": {
  "kernelspec": {
   "display_name": "Python 3 (ipykernel)",
   "language": "python",
   "name": "python3"
  },
  "language_info": {
   "codemirror_mode": {
    "name": "ipython",
    "version": 3
   },
   "file_extension": ".py",
   "mimetype": "text/x-python",
   "name": "python",
   "nbconvert_exporter": "python",
   "pygments_lexer": "ipython3",
   "version": "3.8.11"
  }
 },
 "nbformat": 4,
 "nbformat_minor": 5
}
